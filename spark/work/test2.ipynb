{
 "cells": [
  {
   "cell_type": "code",
   "execution_count": null,
   "metadata": {},
   "outputs": [],
   "source": [
    "# import os\n",
    "# os.environ['PYSPARK_SUBMIT_ARGS'] = '\\\n",
    "# --packages org.apache.spark:spark-streaming-kafka-0-8_2.11:2.2.0,com.datastax.spark:spark-cassandra-connector_2.11:2.0.1 \\\n",
    "# pyspark-shell'"
   ]
  },
  {
   "cell_type": "code",
   "execution_count": 2,
   "metadata": {},
   "outputs": [],
   "source": [
    "# #    Spark\n",
    "# from pyspark import SparkConf, SparkContext\n",
    "# #    Spark Streaming\n",
    "# from pyspark.streaming import StreamingContext\n",
    "# #    Kafka\n",
    "# from pyspark.streaming.kafka import KafkaUtils\n",
    "\n",
    "# from pyspark.sql import SQLContext\n",
    "\n",
    "# #    json parsing\n",
    "# import json"
   ]
  },
  {
   "cell_type": "code",
   "execution_count": 3,
   "metadata": {},
   "outputs": [],
   "source": [
    "# conf = SparkConf(True).setMaster(\"local[*]\").setAppName(\"jupyter pyspark\").set(\"spark.cassandra.connection.host\", \"cassandra\")\n",
    "# sc = SparkContext(conf=conf)\n",
    "# #sc = SparkContext(appName= \"jupyter pyspark\")\n",
    "\n",
    "# sc.setLogLevel(\"WARN\")\n",
    "# sqlContext = SQLContext(sc)"
   ]
  },
  {
   "cell_type": "code",
   "execution_count": null,
   "metadata": {},
   "outputs": [],
   "source": [
    "#sc.stop()"
   ]
  },
  {
   "cell_type": "code",
   "execution_count": 114,
   "metadata": {},
   "outputs": [],
   "source": [
    "import numpy as np\n",
    "import pandas as pd\n",
    "import seaborn as sns\n",
    "import matplotlib.pyplot as plt\n",
    "import datetime\n",
    "%matplotlib inline"
   ]
  },
  {
   "cell_type": "code",
   "execution_count": 115,
   "metadata": {},
   "outputs": [],
   "source": [
    "sf_data = pd.read_csv(\"./raw_data/sanfrancisco.csv\")"
   ]
  },
  {
   "cell_type": "code",
   "execution_count": 119,
   "metadata": {},
   "outputs": [
    {
     "data": {
      "text/plain": [
       "['dt',\n",
       " 'dt_iso',\n",
       " 'city_id',\n",
       " 'city_name',\n",
       " 'lat',\n",
       " 'lon',\n",
       " 'temp',\n",
       " 'temp_min',\n",
       " 'temp_max',\n",
       " 'pressure',\n",
       " 'sea_level',\n",
       " 'grnd_level',\n",
       " 'humidity',\n",
       " 'wind_speed',\n",
       " 'wind_deg',\n",
       " 'rain_1h',\n",
       " 'rain_3h',\n",
       " 'rain_24h',\n",
       " 'rain_today',\n",
       " 'snow_1h',\n",
       " 'snow_3h',\n",
       " 'snow_24h',\n",
       " 'snow_today',\n",
       " 'clouds_all',\n",
       " 'weather_id',\n",
       " 'weather_main',\n",
       " 'weather_description',\n",
       " 'weather_icon']"
      ]
     },
     "execution_count": 119,
     "metadata": {},
     "output_type": "execute_result"
    }
   ],
   "source": [
    "raw_columns = list(sf_data)\n",
    "raw_columns"
   ]
  },
  {
   "cell_type": "code",
   "execution_count": 129,
   "metadata": {},
   "outputs": [],
   "source": [
    "unused_columns = ['snow_1h', 'snow_24h', 'rain_24h', 'rain_1h', 'snow_3h', 'rain_today', 'snow_today', 'weather_icon', 'sea_level', 'grnd_level', 'lat', 'lon', 'city_id', 'city_name']"
   ]
  },
  {
   "cell_type": "code",
   "execution_count": 130,
   "metadata": {},
   "outputs": [],
   "source": [
    "columns = list(set(raw_columns) - set(unused_columns))"
   ]
  },
  {
   "cell_type": "code",
   "execution_count": 131,
   "metadata": {},
   "outputs": [],
   "source": [
    "sf_data2 = sf_data[columns]"
   ]
  },
  {
   "cell_type": "code",
   "execution_count": 132,
   "metadata": {},
   "outputs": [
    {
     "name": "stdout",
     "output_type": "stream",
     "text": [
      "<class 'pandas.core.frame.DataFrame'>\n",
      "RangeIndex: 38415 entries, 0 to 38414\n",
      "Data columns (total 14 columns):\n",
      "temp_min               38415 non-null float64\n",
      "wind_speed             38415 non-null int64\n",
      "rain_3h                1355 non-null float64\n",
      "weather_main           38415 non-null object\n",
      "clouds_all             38415 non-null int64\n",
      "wind_deg               38415 non-null int64\n",
      "humidity               38415 non-null int64\n",
      "dt                     38415 non-null int64\n",
      "weather_description    38415 non-null object\n",
      "dt_iso                 38415 non-null object\n",
      "pressure               38415 non-null int64\n",
      "temp                   38415 non-null float64\n",
      "weather_id             38415 non-null int64\n",
      "temp_max               38415 non-null float64\n",
      "dtypes: float64(4), int64(7), object(3)\n",
      "memory usage: 4.1+ MB\n"
     ]
    }
   ],
   "source": [
    "sf_data2.info()"
   ]
  },
  {
   "cell_type": "code",
   "execution_count": 133,
   "metadata": {},
   "outputs": [
    {
     "name": "stderr",
     "output_type": "stream",
     "text": [
      "/opt/conda/lib/python3.6/site-packages/ipykernel_launcher.py:1: SettingWithCopyWarning: \n",
      "A value is trying to be set on a copy of a slice from a DataFrame.\n",
      "Try using .loc[row_indexer,col_indexer] = value instead\n",
      "\n",
      "See the caveats in the documentation: http://pandas.pydata.org/pandas-docs/stable/indexing.html#indexing-view-versus-copy\n",
      "  \"\"\"Entry point for launching an IPython kernel.\n"
     ]
    }
   ],
   "source": [
    "sf_data2['rain_3h']= sf_data2['rain_3h'].fillna(0)"
   ]
  },
  {
   "cell_type": "code",
   "execution_count": 134,
   "metadata": {},
   "outputs": [
    {
     "name": "stderr",
     "output_type": "stream",
     "text": [
      "/opt/conda/lib/python3.6/site-packages/pandas/util/decorators.py:91: SettingWithCopyWarning: \n",
      "A value is trying to be set on a copy of a slice from a DataFrame\n",
      "\n",
      "See the caveats in the documentation: http://pandas.pydata.org/pandas-docs/stable/indexing.html#indexing-view-versus-copy\n",
      "  return func(*args, **kwargs)\n"
     ]
    }
   ],
   "source": [
    "sf_data2.drop_duplicates('dt', inplace=True)"
   ]
  },
  {
   "cell_type": "code",
   "execution_count": 136,
   "metadata": {},
   "outputs": [
    {
     "name": "stdout",
     "output_type": "stream",
     "text": [
      "<class 'pandas.core.frame.DataFrame'>\n",
      "Int64Index: 33442 entries, 0 to 38414\n",
      "Data columns (total 14 columns):\n",
      "temp_min               33442 non-null float64\n",
      "wind_speed             33442 non-null int64\n",
      "rain_3h                33442 non-null float64\n",
      "weather_main           33442 non-null object\n",
      "clouds_all             33442 non-null int64\n",
      "wind_deg               33442 non-null int64\n",
      "humidity               33442 non-null int64\n",
      "dt                     33442 non-null int64\n",
      "weather_description    33442 non-null object\n",
      "dt_iso                 33442 non-null object\n",
      "pressure               33442 non-null int64\n",
      "temp                   33442 non-null float64\n",
      "weather_id             33442 non-null int64\n",
      "temp_max               33442 non-null float64\n",
      "dtypes: float64(4), int64(7), object(3)\n",
      "memory usage: 3.8+ MB\n"
     ]
    }
   ],
   "source": [
    "sf_data2.info()pd.to_datetime"
   ]
  },
  {
   "cell_type": "code",
   "execution_count": 138,
   "metadata": {},
   "outputs": [
    {
     "name": "stderr",
     "output_type": "stream",
     "text": [
      "/opt/conda/lib/python3.6/site-packages/ipykernel_launcher.py:1: SettingWithCopyWarning: \n",
      "A value is trying to be set on a copy of a slice from a DataFrame.\n",
      "Try using .loc[row_indexer,col_indexer] = value instead\n",
      "\n",
      "See the caveats in the documentation: http://pandas.pydata.org/pandas-docs/stable/indexing.html#indexing-view-versus-copy\n",
      "  \"\"\"Entry point for launching an IPython kernel.\n"
     ]
    }
   ],
   "source": [
    "sf_data2['dt_datetime'] =  pd.to_datetime(sf_data2['dt_iso'], format='%Y-%m-%d %H:%M:%S +%f %Z')"
   ]
  },
  {
   "cell_type": "code",
   "execution_count": 139,
   "metadata": {},
   "outputs": [
    {
     "data": {
      "text/html": [
       "<div>\n",
       "<table border=\"1\" class=\"dataframe\">\n",
       "  <thead>\n",
       "    <tr style=\"text-align: right;\">\n",
       "      <th></th>\n",
       "      <th>temp_min</th>\n",
       "      <th>wind_speed</th>\n",
       "      <th>rain_3h</th>\n",
       "      <th>weather_main</th>\n",
       "      <th>clouds_all</th>\n",
       "      <th>wind_deg</th>\n",
       "      <th>humidity</th>\n",
       "      <th>dt</th>\n",
       "      <th>weather_description</th>\n",
       "      <th>dt_iso</th>\n",
       "      <th>pressure</th>\n",
       "      <th>temp</th>\n",
       "      <th>weather_id</th>\n",
       "      <th>temp_max</th>\n",
       "      <th>dt_datetime</th>\n",
       "    </tr>\n",
       "  </thead>\n",
       "  <tbody>\n",
       "    <tr>\n",
       "      <th>0</th>\n",
       "      <td>282.15</td>\n",
       "      <td>2</td>\n",
       "      <td>0.0</td>\n",
       "      <td>Drizzle</td>\n",
       "      <td>0</td>\n",
       "      <td>150</td>\n",
       "      <td>88</td>\n",
       "      <td>1349096400</td>\n",
       "      <td>light intensity drizzle</td>\n",
       "      <td>2012-10-01 13:00:00 +0000 UTC</td>\n",
       "      <td>1009</td>\n",
       "      <td>289.48</td>\n",
       "      <td>300</td>\n",
       "      <td>301.15</td>\n",
       "      <td>2012-10-01 13:00:00</td>\n",
       "    </tr>\n",
       "    <tr>\n",
       "      <th>2</th>\n",
       "      <td>282.15</td>\n",
       "      <td>0</td>\n",
       "      <td>0.0</td>\n",
       "      <td>Clear</td>\n",
       "      <td>1</td>\n",
       "      <td>0</td>\n",
       "      <td>63</td>\n",
       "      <td>1349186400</td>\n",
       "      <td>sky is clear</td>\n",
       "      <td>2012-10-02 14:00:00 +0000 UTC</td>\n",
       "      <td>1015</td>\n",
       "      <td>289.13</td>\n",
       "      <td>800</td>\n",
       "      <td>301.15</td>\n",
       "      <td>2012-10-02 14:00:00</td>\n",
       "    </tr>\n",
       "    <tr>\n",
       "      <th>3</th>\n",
       "      <td>283.15</td>\n",
       "      <td>0</td>\n",
       "      <td>0.0</td>\n",
       "      <td>Clear</td>\n",
       "      <td>1</td>\n",
       "      <td>0</td>\n",
       "      <td>51</td>\n",
       "      <td>1349190000</td>\n",
       "      <td>sky is clear</td>\n",
       "      <td>2012-10-02 15:00:00 +0000 UTC</td>\n",
       "      <td>1016</td>\n",
       "      <td>290.73</td>\n",
       "      <td>800</td>\n",
       "      <td>302.15</td>\n",
       "      <td>2012-10-02 15:00:00</td>\n",
       "    </tr>\n",
       "    <tr>\n",
       "      <th>4</th>\n",
       "      <td>287.15</td>\n",
       "      <td>4</td>\n",
       "      <td>0.0</td>\n",
       "      <td>Haze</td>\n",
       "      <td>0</td>\n",
       "      <td>190</td>\n",
       "      <td>56</td>\n",
       "      <td>1349193600</td>\n",
       "      <td>haze</td>\n",
       "      <td>2012-10-02 16:00:00 +0000 UTC</td>\n",
       "      <td>1011</td>\n",
       "      <td>293.02</td>\n",
       "      <td>721</td>\n",
       "      <td>307.15</td>\n",
       "      <td>2012-10-02 16:00:00</td>\n",
       "    </tr>\n",
       "    <tr>\n",
       "      <th>5</th>\n",
       "      <td>290.15</td>\n",
       "      <td>3</td>\n",
       "      <td>0.0</td>\n",
       "      <td>Haze</td>\n",
       "      <td>0</td>\n",
       "      <td>140</td>\n",
       "      <td>94</td>\n",
       "      <td>1349197200</td>\n",
       "      <td>haze</td>\n",
       "      <td>2012-10-02 17:00:00 +0000 UTC</td>\n",
       "      <td>1001</td>\n",
       "      <td>296.18</td>\n",
       "      <td>721</td>\n",
       "      <td>307.15</td>\n",
       "      <td>2012-10-02 17:00:00</td>\n",
       "    </tr>\n",
       "  </tbody>\n",
       "</table>\n",
       "</div>"
      ],
      "text/plain": [
       "   temp_min  wind_speed  rain_3h weather_main  clouds_all  wind_deg  humidity  \\\n",
       "0    282.15           2      0.0      Drizzle           0       150        88   \n",
       "2    282.15           0      0.0        Clear           1         0        63   \n",
       "3    283.15           0      0.0        Clear           1         0        51   \n",
       "4    287.15           4      0.0         Haze           0       190        56   \n",
       "5    290.15           3      0.0         Haze           0       140        94   \n",
       "\n",
       "           dt      weather_description                         dt_iso  \\\n",
       "0  1349096400  light intensity drizzle  2012-10-01 13:00:00 +0000 UTC   \n",
       "2  1349186400             sky is clear  2012-10-02 14:00:00 +0000 UTC   \n",
       "3  1349190000             sky is clear  2012-10-02 15:00:00 +0000 UTC   \n",
       "4  1349193600                     haze  2012-10-02 16:00:00 +0000 UTC   \n",
       "5  1349197200                     haze  2012-10-02 17:00:00 +0000 UTC   \n",
       "\n",
       "   pressure    temp  weather_id  temp_max         dt_datetime  \n",
       "0      1009  289.48         300    301.15 2012-10-01 13:00:00  \n",
       "2      1015  289.13         800    301.15 2012-10-02 14:00:00  \n",
       "3      1016  290.73         800    302.15 2012-10-02 15:00:00  \n",
       "4      1011  293.02         721    307.15 2012-10-02 16:00:00  \n",
       "5      1001  296.18         721    307.15 2012-10-02 17:00:00  "
      ]
     },
     "execution_count": 139,
     "metadata": {},
     "output_type": "execute_result"
    }
   ],
   "source": [
    "def \n",
    "def create_3d_diff(raw_data):\n",
    "    data = raw_data.copy()\n",
    "    for d in data:"
   ]
  },
  {
   "cell_type": "code",
   "execution_count": null,
   "metadata": {},
   "outputs": [],
   "source": [
    "# create 3 d diff data\n",
    "# change category data to numercial dataa\n",
    "# explore data\n",
    "# apply machine learning algorithm"
   ]
  },
  {
   "cell_type": "code",
   "execution_count": null,
   "metadata": {},
   "outputs": [],
   "source": [
    ""
   ]
  }
 ],
 "metadata": {
  "kernelspec": {
   "display_name": "Python 3",
   "language": "python",
   "name": "python3"
  },
  "language_info": {
   "codemirror_mode": {
    "name": "ipython",
    "version": 3.0
   },
   "file_extension": ".py",
   "mimetype": "text/x-python",
   "name": "python",
   "nbconvert_exporter": "python",
   "pygments_lexer": "ipython3",
   "version": "3.6.3"
  }
 },
 "nbformat": 4,
 "nbformat_minor": 0
}