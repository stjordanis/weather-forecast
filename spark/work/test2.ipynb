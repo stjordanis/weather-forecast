{
 "cells": [
  {
   "cell_type": "code",
   "execution_count": 1,
   "metadata": {},
   "outputs": [],
   "source": [
    "# import os\n",
    "# os.environ['PYSPARK_SUBMIT_ARGS'] = '\\\n",
    "# --packages org.apache.spark:spark-streaming-kafka-0-8_2.11:2.2.0,com.datastax.spark:spark-cassandra-connector_2.11:2.0.1 \\\n",
    "# pyspark-shell'"
   ]
  },
  {
   "cell_type": "code",
   "execution_count": 2,
   "metadata": {},
   "outputs": [],
   "source": [
    "# #    Spark\n",
    "# from pyspark import SparkConf, SparkContext\n",
    "# #    Spark Streaming\n",
    "# from pyspark.streaming import StreamingContext\n",
    "# #    Kafka\n",
    "# from pyspark.streaming.kafka import KafkaUtils\n",
    "\n",
    "# from pyspark.sql import SQLContext\n",
    "\n",
    "# #    json parsing\n",
    "# import json"
   ]
  },
  {
   "cell_type": "code",
   "execution_count": 3,
   "metadata": {},
   "outputs": [],
   "source": [
    "# conf = SparkConf(True).setMaster(\"local[*]\").setAppName(\"jupyter pyspark\").set(\"spark.cassandra.connection.host\", \"cassandra\")\n",
    "# sc = SparkContext(conf=conf)\n",
    "# #sc = SparkContext(appName= \"jupyter pyspark\")\n",
    "\n",
    "# sc.setLogLevel(\"WARN\")\n",
    "# sqlContext = SQLContext(sc)"
   ]
  },
  {
   "cell_type": "code",
   "execution_count": 4,
   "metadata": {},
   "outputs": [],
   "source": [
    "#sc.stop()"
   ]
  },
  {
   "cell_type": "code",
   "execution_count": 15,
   "metadata": {},
   "outputs": [],
   "source": [
    "import numpy as np\n",
    "import pandas as pd\n",
    "import seaborn as sns\n",
    "import matplotlib.pyplot as plt\n",
    "import datetime\n",
    "import pandas.tseries.offsets as offsets\n",
    "%matplotlib inline"
   ]
  },
  {
   "cell_type": "code",
   "execution_count": 6,
   "metadata": {},
   "outputs": [],
   "source": [
    "sf_data = pd.read_csv(\"./raw_data/sanfrancisco.csv\")"
   ]
  },
  {
   "cell_type": "code",
   "execution_count": 7,
   "metadata": {},
   "outputs": [
    {
     "data": {
      "text/plain": [
       "['dt',\n",
       " 'dt_iso',\n",
       " 'city_id',\n",
       " 'city_name',\n",
       " 'lat',\n",
       " 'lon',\n",
       " 'temp',\n",
       " 'temp_min',\n",
       " 'temp_max',\n",
       " 'pressure',\n",
       " 'sea_level',\n",
       " 'grnd_level',\n",
       " 'humidity',\n",
       " 'wind_speed',\n",
       " 'wind_deg',\n",
       " 'rain_1h',\n",
       " 'rain_3h',\n",
       " 'rain_24h',\n",
       " 'rain_today',\n",
       " 'snow_1h',\n",
       " 'snow_3h',\n",
       " 'snow_24h',\n",
       " 'snow_today',\n",
       " 'clouds_all',\n",
       " 'weather_id',\n",
       " 'weather_main',\n",
       " 'weather_description',\n",
       " 'weather_icon']"
      ]
     },
     "execution_count": 7,
     "metadata": {},
     "output_type": "execute_result"
    }
   ],
   "source": [
    "raw_columns = list(sf_data)\n",
    "raw_columns"
   ]
  },
  {
   "cell_type": "code",
   "execution_count": 8,
   "metadata": {},
   "outputs": [],
   "source": [
    "unused_columns = ['snow_1h', 'snow_24h', 'rain_24h', 'rain_1h', 'snow_3h', 'rain_today', 'snow_today', 'weather_icon', 'sea_level', 'grnd_level', 'lat', 'lon', 'city_id', 'city_name']"
   ]
  },
  {
   "cell_type": "code",
   "execution_count": 9,
   "metadata": {},
   "outputs": [],
   "source": [
    "columns = list(set(raw_columns) - set(unused_columns))"
   ]
  },
  {
   "cell_type": "code",
   "execution_count": 10,
   "metadata": {},
   "outputs": [],
   "source": [
    "sf_data2 = sf_data[columns]"
   ]
  },
  {
   "cell_type": "code",
   "execution_count": 11,
   "metadata": {},
   "outputs": [
    {
     "name": "stdout",
     "output_type": "stream",
     "text": [
      "<class 'pandas.core.frame.DataFrame'>\n",
      "RangeIndex: 38415 entries, 0 to 38414\n",
      "Data columns (total 14 columns):\n",
      "weather_id             38415 non-null int64\n",
      "wind_speed             38415 non-null int64\n",
      "dt                     38415 non-null int64\n",
      "rain_3h                1355 non-null float64\n",
      "temp_min               38415 non-null float64\n",
      "wind_deg               38415 non-null int64\n",
      "clouds_all             38415 non-null int64\n",
      "dt_iso                 38415 non-null object\n",
      "temp_max               38415 non-null float64\n",
      "pressure               38415 non-null int64\n",
      "humidity               38415 non-null int64\n",
      "weather_main           38415 non-null object\n",
      "temp                   38415 non-null float64\n",
      "weather_description    38415 non-null object\n",
      "dtypes: float64(4), int64(7), object(3)\n",
      "memory usage: 4.1+ MB\n"
     ]
    }
   ],
   "source": [
    "sf_data2.info()"
   ]
  },
  {
   "cell_type": "code",
   "execution_count": 12,
   "metadata": {},
   "outputs": [
    {
     "name": "stderr",
     "output_type": "stream",
     "text": [
      "/opt/conda/lib/python3.6/site-packages/ipykernel_launcher.py:1: SettingWithCopyWarning: \n",
      "A value is trying to be set on a copy of a slice from a DataFrame.\n",
      "Try using .loc[row_indexer,col_indexer] = value instead\n",
      "\n",
      "See the caveats in the documentation: http://pandas.pydata.org/pandas-docs/stable/indexing.html#indexing-view-versus-copy\n",
      "  \"\"\"Entry point for launching an IPython kernel.\n"
     ]
    }
   ],
   "source": [
    "sf_data2['rain_3h']= sf_data2['rain_3h'].fillna(0)"
   ]
  },
  {
   "cell_type": "code",
   "execution_count": 13,
   "metadata": {},
   "outputs": [
    {
     "name": "stderr",
     "output_type": "stream",
     "text": [
      "/opt/conda/lib/python3.6/site-packages/pandas/util/decorators.py:91: SettingWithCopyWarning: \n",
      "A value is trying to be set on a copy of a slice from a DataFrame\n",
      "\n",
      "See the caveats in the documentation: http://pandas.pydata.org/pandas-docs/stable/indexing.html#indexing-view-versus-copy\n",
      "  return func(*args, **kwargs)\n"
     ]
    }
   ],
   "source": [
    "sf_data2.drop_duplicates('dt', inplace=True)"
   ]
  },
  {
   "cell_type": "code",
   "execution_count": 14,
   "metadata": {},
   "outputs": [
    {
     "ename": "SyntaxError",
     "evalue": "invalid syntax (<ipython-input-14-52c72f38c80b>, line 1)",
     "traceback": [
      "\u001b[0;36m  File \u001b[0;32m\"<ipython-input-14-52c72f38c80b>\"\u001b[0;36m, line \u001b[0;32m1\u001b[0m\n\u001b[0;31m    sf_data2.info()pd.to_datetime\u001b[0m\n\u001b[0m                    ^\u001b[0m\n\u001b[0;31mSyntaxError\u001b[0m\u001b[0;31m:\u001b[0m invalid syntax\n"
     ],
     "output_type": "error"
    }
   ],
   "source": [
    "sf_data2.info()pd.to_datetime"
   ]
  },
  {
   "cell_type": "code",
   "execution_count": 26,
   "metadata": {},
   "outputs": [
    {
     "name": "stderr",
     "output_type": "stream",
     "text": [
      "/opt/conda/lib/python3.6/site-packages/ipykernel_launcher.py:1: SettingWithCopyWarning: \n",
      "A value is trying to be set on a copy of a slice from a DataFrame.\n",
      "Try using .loc[row_indexer,col_indexer] = value instead\n",
      "\n",
      "See the caveats in the documentation: http://pandas.pydata.org/pandas-docs/stable/indexing.html#indexing-view-versus-copy\n",
      "  \"\"\"Entry point for launching an IPython kernel.\n"
     ]
    }
   ],
   "source": [
    "sf_data2['dt_datetime'] =  pd.to_datetime(sf_data2['dt_iso'], format='%Y-%m-%d %H:%M:%S +%f %Z')"
   ]
  },
  {
   "cell_type": "code",
   "execution_count": 141,
   "metadata": {},
   "outputs": [
    {
     "name": "stdout",
     "output_type": "stream",
     "text": [
      "<class 'pandas.core.frame.DataFrame'>\n",
      "Int64Index: 33442 entries, 0 to 38414\n",
      "Data columns (total 15 columns):\n",
      "weather_id             33442 non-null int64\n",
      "wind_speed             33442 non-null int64\n",
      "dt                     33442 non-null int64\n",
      "rain_3h                33442 non-null float64\n",
      "temp_min               33442 non-null float64\n",
      "wind_deg               33442 non-null int64\n",
      "clouds_all             33442 non-null int64\n",
      "dt_iso                 33442 non-null object\n",
      "temp_max               33442 non-null float64\n",
      "pressure               33442 non-null int64\n",
      "humidity               33442 non-null int64\n",
      "weather_main           33442 non-null object\n",
      "temp                   33442 non-null float64\n",
      "weather_description    33442 non-null object\n",
      "dt_datetime            33442 non-null datetime64[ns]\n",
      "dtypes: datetime64[ns](1), float64(4), int64(7), object(3)\n",
      "memory usage: 4.1+ MB\n"
     ]
    }
   ],
   "source": [
    "sf_data2.info()"
   ]
  },
  {
   "cell_type": "code",
   "execution_count": 42,
   "metadata": {},
   "outputs": [
    {
     "data": {
      "text/plain": [
       "1"
      ]
     },
     "execution_count": 42,
     "metadata": {},
     "output_type": "execute_result"
    }
   ],
   "source": [
    "int(pd.Timedelta(sf_data2['dt_datetime'].iloc[2] - sf_data2['dt_datetime'].iloc[1]).seconds/3600)"
   ]
  },
  {
   "cell_type": "code",
   "execution_count": 177,
   "metadata": {},
   "outputs": [
    {
     "name": "stdout",
     "output_type": "stream",
     "text": [
      "<class 'pandas.core.frame.DataFrame'>\n",
      "RangeIndex: 100 entries, 0 to 99\n",
      "Data columns (total 15 columns):\n",
      "weather_id             100 non-null int64\n",
      "wind_speed             100 non-null int64\n",
      "dt                     100 non-null int64\n",
      "rain_3h                100 non-null float64\n",
      "temp_min               100 non-null float64\n",
      "wind_deg               100 non-null int64\n",
      "clouds_all             100 non-null int64\n",
      "dt_iso                 100 non-null object\n",
      "temp_max               100 non-null float64\n",
      "pressure               100 non-null int64\n",
      "humidity               100 non-null int64\n",
      "weather_main           100 non-null object\n",
      "temp                   100 non-null float64\n",
      "weather_description    100 non-null object\n",
      "dt_datetime            100 non-null datetime64[ns]\n",
      "dtypes: datetime64[ns](1), float64(4), int64(7), object(3)\n",
      "memory usage: 11.8+ KB\n"
     ]
    }
   ],
   "source": [
    "diff_columns = list(set(sf_data2.columns) - set(['dt', 'dt_iso']))\n",
    "diff_columns\n",
    "day_diff = 2\n",
    "maximum_prev_index_diff = 2 *  24 \n",
    "raw_datum = sf_data2.reset_index(drop=True).iloc[0:100]\n",
    "raw_datum.info()"
   ]
  },
  {
   "cell_type": "code",
   "execution_count": 178,
   "metadata": {},
   "outputs": [
    {
     "name": "stdout",
     "output_type": "stream",
     "text": [
      "0\n",
      "1\n",
      "2\n",
      "3\n",
      "4\n",
      "5\n",
      "6\n",
      "7\n",
      "8\n",
      "9\n",
      "10\n",
      "11\n",
      "12\n",
      "13\n",
      "14\n",
      "15\n",
      "16\n",
      "17\n",
      "18\n",
      "19\n",
      "20\n",
      "21\n",
      "22\n",
      "23\n",
      "24\n",
      "25\n",
      "26\n",
      "27\n",
      "28\n",
      "29\n",
      "30\n",
      "31\n",
      "32\n",
      "33\n",
      "34\n",
      "35\n",
      "36\n",
      "37\n",
      "38\n",
      "39\n",
      "40\n",
      "41\n",
      "42\n",
      "43\n",
      "44\n",
      "45\n",
      "46\n",
      "47\n",
      "48\n",
      "49\n",
      "50\n",
      "51\n",
      "52\n",
      "53\n",
      "54\n",
      "55\n",
      "56\n",
      "57\n",
      "58\n",
      "59\n",
      "60\n",
      "61\n",
      "62\n",
      "63\n",
      "64\n",
      "65\n",
      "66\n",
      "67\n",
      "68\n",
      "69\n",
      "70\n",
      "71\n",
      "72\n",
      "73\n",
      "74\n",
      "75\n",
      "76\n",
      "77\n",
      "78\n",
      "79\n",
      "80\n",
      "81\n",
      "82\n",
      "83\n",
      "84\n",
      "85\n",
      "86\n",
      "87\n",
      "88\n",
      "89\n",
      "90\n",
      "91\n",
      "92\n",
      "93\n",
      "94\n",
      "95\n",
      "96\n",
      "97\n",
      "98\n",
      "99\n"
     ]
    }
   ],
   "source": [
    "def add_diff_datum():\n",
    "    data = raw_datum.copy()\n",
    "    data = data.apply(add_diff_days_data, axis=1)\n",
    "    return data\n",
    "sf_data3 = add_diff_datum()"
   ]
  },
  {
   "cell_type": "code",
   "execution_count": 180,
   "metadata": {},
   "outputs": [
    {
     "name": "stdout",
     "output_type": "stream",
     "text": [
      "<class 'pandas.core.frame.DataFrame'>\n",
      "RangeIndex: 100 entries, 0 to 99\n",
      "Columns: 314 entries, clouds_all to wind_speed_9_ago\n",
      "dtypes: datetime64[ns](1), float64(234), int64(7), object(72)\n",
      "memory usage: 245.4+ KB\n"
     ]
    }
   ],
   "source": [
    "sf_data3.info()"
   ]
  },
  {
   "cell_type": "code",
   "execution_count": 165,
   "metadata": {},
   "outputs": [],
   "source": [
    "def add_diff_days_data(current_data):    \n",
    "    index = current_data.name\n",
    "    print(index)\n",
    "\n",
    "    if index == 0:\n",
    "        return current_data\n",
    "    prev_index_right = index - 1\n",
    "    left_index = index - maximum_prev_index_diff if index - maximum_prev_index_diff > 0 else 0\n",
    "       \n",
    "    while left_index <= prev_index_right:\n",
    "        current_data = add_diff_data(current_data, raw_datum.iloc[left_index])\n",
    "        left_index += 1\n",
    "    return current_data"
   ]
  },
  {
   "cell_type": "code",
   "execution_count": 159,
   "metadata": {},
   "outputs": [],
   "source": [
    "def add_diff_data(current_data, prev_data):\n",
    "    diff = int(pd.Timedelta(current_data['dt_datetime'] - prev_data['dt_datetime']).seconds/ 3600)\n",
    "    if diff > 0 and diff < maximum_prev_index_diff:\n",
    "        for diff_column in diff_columns:\n",
    "            column_name = '{}_{}_ago'.format(diff_column, diff)\n",
    "            current_data[column_name] = prev_data[diff_column]\n",
    "    return current_data"
   ]
  },
  {
   "cell_type": "code",
   "execution_count": 75,
   "metadata": {},
   "outputs": [],
   "source": [
    "# def add_days_diff(raw_data, diff_columns):\n",
    "#     data = raw_data.copy()\n",
    "#     maximum_prev_index_diff = day_diff * 24\n",
    "#     for index, current_data in data.iterrows():\n",
    "#         prev_index_right = index -1\n",
    "#         #maximum_prev_index = index - maximum_prev_index_diff\n",
    "#         prev_index_left = if index - maximum_prev_index_diff > 0:\n",
    "#             index - maximum_prev_index_diff\n",
    "#             else:\n",
    "#                 0\n",
    "#         prev_datum  = raw_data[prev_index_left:prev_index_right]\n",
    "        \n",
    "#         while prev_index >= 0 and prev_index > maximum_prev_index:\n",
    "#             print('current_index{}_:prev_index:{}'.format(index, prev_index))\n",
    "#             add_diff_data(day_diff, current_data, data.iloc[prev_index], diff_columns)\n",
    "#             prev_index = prev_index - 1\n",
    "#         else:\n",
    "#             print(\"loop is done from {} to {}\".format(index, prev_index))\n",
    "        \n",
    "#     return data"
   ]
  },
  {
   "cell_type": "code",
   "execution_count": null,
   "metadata": {},
   "outputs": [],
   "source": [
    "#create 2 d diff data\n",
    "# change category data to numercial dataa\n",
    "# explore data\n",
    "# apply machine learning algorithm"
   ]
  },
  {
   "cell_type": "code",
   "execution_count": null,
   "metadata": {},
   "outputs": [],
   "source": [
    ""
   ]
  }
 ],
 "metadata": {
  "kernelspec": {
   "display_name": "Python 3",
   "language": "python",
   "name": "python3"
  },
  "language_info": {
   "codemirror_mode": {
    "name": "ipython",
    "version": 3.0
   },
   "file_extension": ".py",
   "mimetype": "text/x-python",
   "name": "python",
   "nbconvert_exporter": "python",
   "pygments_lexer": "ipython3",
   "version": "3.6.3"
  }
 },
 "nbformat": 4,
 "nbformat_minor": 0
}